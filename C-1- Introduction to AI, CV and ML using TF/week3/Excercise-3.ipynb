{
 "cells": [
  {
   "cell_type": "markdown",
   "metadata": {
    "colab_type": "text",
    "id": "iQjHqsmTAVLU"
   },
   "source": [
    "## Exercise 3\n",
    "In the videos you looked at how you would improve Fashion MNIST using Convolutions. For your exercise see if you can improve MNIST to 99.8% accuracy or more using only a single convolutional layer and a single MaxPooling 2D. You should stop training once the accuracy goes above this amount. It should happen in less than 20 epochs, so it's ok to hard code the number of epochs for training, but your training must end once it hits the above metric. If it doesn't, then you'll need to redesign your layers.\n",
    "\n",
    "I've started the code for you -- you need to finish it!\n",
    "\n",
    "When 99.8% accuracy has been hit, you should print out the string \"Reached 99.8% accuracy so cancelling training!\"\n"
   ]
  },
  {
   "cell_type": "code",
   "execution_count": 1,
   "metadata": {},
   "outputs": [],
   "source": [
    "import tensorflow as tf\n",
    "from os import path, getcwd, chdir\n",
    "\n",
    "# DO NOT CHANGE THE LINE BELOW. If you are developing in a local\n",
    "# environment, then grab mnist.npz from the Coursera Jupyter Notebook\n",
    "# and place it inside a local folder and edit the path to that location\n",
    "path = f\"{getcwd()}/../tmp2/mnist.npz\""
   ]
  },
  {
   "cell_type": "code",
   "execution_count": 13,
   "metadata": {},
   "outputs": [],
   "source": [
    "\n",
    "import tensorflow as tf\n",
    "def train_mnist_conv():\n",
    "        # YOUR CODE STARTS HERE\n",
    "    class myCallback(tf.keras.callbacks.Callback):\n",
    "        def on_epoc_end(self, epoch, logs={}):\n",
    "            if(logs.get('acc') > 0.998):\n",
    "                print(\"Reached accuracy 99.8% accuracyc so cancelling training!\")\n",
    "                self.model.stop_training = True\n",
    "    callbacks = myCallback()\n",
    "    # YOUR CODE ENDS HERE\n",
    "\n",
    "    mnist = tf.keras.datasets.mnist\n",
    "    (training_images, training_labels), (test_images, test_labels) = mnist.load_data()\n",
    "\n",
    "    # YOUR CODE STARTS HERE\n",
    "    training_images = training_images.reshape(60000, 28, 28, 1)\n",
    "    training_images = training_images/255.0\n",
    "    test_images = test_images.reshape(10000, 28, 28, 1)\n",
    "    test_images = test_images/255.0\n",
    "    # YOUR CODE ENDS HERE\n",
    "\n",
    "    model = tf.keras.models.Sequential([\n",
    "        # YOUR CODE STARTS HERE\n",
    "        tf.keras.layers.Conv2D(32, (3,3), activation = 'relu', input_shape = (28, 28, 1)),\n",
    "        tf.keras.layers.MaxPooling2D(2,2),\n",
    "        tf.keras.layers.Flatten(),\n",
    "        tf.keras.layers.Dense(128, activation = 'relu'),\n",
    "        tf.keras.layers.Dense(10, activation = 'softmax')\n",
    "        # YOUR CODE ENDS HERE\n",
    "    ])\n",
    "\n",
    "    # YOUR CODE STARTS HERE\n",
    "    model.compile(optimizer = 'adam', loss = 'sparse_categorical_crossentropy', metrics = ['accuracy'])\n",
    "    model.fit(training_images, training_labels, epochs = 10, callbacks = [callbacks])\n",
    "    history = model.fit(training_images, training_labels, epochs = 15, callbacks = [callbacks])\n",
    "\n",
    "    # model fitting\n",
    "    return history.epoch, history.history['acc'][-1]\n",
    "\n"
   ]
  },
  {
   "cell_type": "code",
   "execution_count": 14,
   "metadata": {},
   "outputs": [
    {
     "name": "stdout",
     "output_type": "stream",
     "text": [
      "Epoch 1/10\n",
      "60000/60000 [==============================] - 15s 255us/sample - loss: 0.1461 - acc: 0.9559\n",
      "Epoch 2/10\n",
      "60000/60000 [==============================] - 15s 244us/sample - loss: 0.0500 - acc: 0.9845\n",
      "Epoch 3/10\n",
      "60000/60000 [==============================] - 14s 232us/sample - loss: 0.0311 - acc: 0.9902\n",
      "Epoch 4/10\n",
      "60000/60000 [==============================] - 14s 230us/sample - loss: 0.0203 - acc: 0.9936\n",
      "Epoch 5/10\n",
      "60000/60000 [==============================] - 14s 230us/sample - loss: 0.0138 - acc: 0.9956\n",
      "Epoch 6/10\n",
      "60000/60000 [==============================] - 13s 223us/sample - loss: 0.0083 - acc: 0.9974\n",
      "Epoch 7/10\n",
      "60000/60000 [==============================] - 14s 227us/sample - loss: 0.0090 - acc: 0.9972\n",
      "Epoch 8/10\n",
      "60000/60000 [==============================] - 14s 232us/sample - loss: 0.0058 - acc: 0.9980\n",
      "Epoch 9/10\n",
      "60000/60000 [==============================] - 14s 232us/sample - loss: 0.0053 - acc: 0.9984\n",
      "Epoch 10/10\n",
      "60000/60000 [==============================] - 14s 237us/sample - loss: 0.0037 - acc: 0.9988\n",
      "Epoch 1/15\n",
      "60000/60000 [==============================] - 14s 235us/sample - loss: 0.0041 - acc: 0.9987\n",
      "Epoch 2/15\n",
      "60000/60000 [==============================] - 14s 237us/sample - loss: 0.0031 - acc: 0.9990\n",
      "Epoch 3/15\n",
      "60000/60000 [==============================] - 14s 240us/sample - loss: 0.0025 - acc: 0.9992\n",
      "Epoch 4/15\n",
      "60000/60000 [==============================] - 14s 230us/sample - loss: 0.0023 - acc: 0.9991\n",
      "Epoch 5/15\n",
      "60000/60000 [==============================] - 14s 235us/sample - loss: 0.0036 - acc: 0.9990\n",
      "Epoch 6/15\n",
      "60000/60000 [==============================] - 14s 235us/sample - loss: 0.0033 - acc: 0.9989\n",
      "Epoch 7/15\n",
      "60000/60000 [==============================] - 14s 228us/sample - loss: 0.0014 - acc: 0.9996\n",
      "Epoch 8/15\n",
      "60000/60000 [==============================] - 14s 225us/sample - loss: 0.0030 - acc: 0.9990\n",
      "Epoch 9/15\n",
      "60000/60000 [==============================] - 13s 223us/sample - loss: 0.0016 - acc: 0.9995\n",
      "Epoch 10/15\n",
      "60000/60000 [==============================] - 14s 230us/sample - loss: 9.0028e-04 - acc: 0.9997\n",
      "Epoch 11/15\n",
      "60000/60000 [==============================] - 14s 230us/sample - loss: 0.0020 - acc: 0.9994\n",
      "Epoch 12/15\n",
      "60000/60000 [==============================] - 14s 232us/sample - loss: 0.0013 - acc: 0.9994\n",
      "Epoch 13/15\n",
      "60000/60000 [==============================] - 14s 238us/sample - loss: 0.0016 - acc: 0.9995\n",
      "Epoch 14/15\n",
      "60000/60000 [==============================] - 14s 227us/sample - loss: 0.0013 - acc: 0.9996\n",
      "Epoch 15/15\n",
      "60000/60000 [==============================] - 14s 227us/sample - loss: 0.0025 - acc: 0.9992\n"
     ]
    }
   ],
   "source": [
    "training_images, training_labels = train_mnist_conv()"
   ]
  },
  {
   "cell_type": "code",
   "execution_count": null,
   "metadata": {},
   "outputs": [],
   "source": []
  },
  {
   "cell_type": "code",
   "execution_count": null,
   "metadata": {},
   "outputs": [],
   "source": [
    "# Now click the 'Submit Assignment' button above.\n",
    "# Once that is complete, please run the following two cells to save your work and close the notebook"
   ]
  },
  {
   "cell_type": "code",
   "execution_count": null,
   "metadata": {},
   "outputs": [],
   "source": [
    "%%javascript\n",
    "<!-- Save the notebook -->\n",
    "IPython.notebook.save_checkpoint();"
   ]
  },
  {
   "cell_type": "code",
   "execution_count": null,
   "metadata": {},
   "outputs": [],
   "source": [
    "%%javascript\n",
    "IPython.notebook.session.delete();\n",
    "window.onbeforeunload = null\n",
    "setTimeout(function() { window.close(); }, 1000);"
   ]
  }
 ],
 "metadata": {
  "coursera": {
   "course_slug": "introduction-tensorflow",
   "graded_item_id": "ml06H",
   "launcher_item_id": "hQF8A"
  },
  "kernelspec": {
   "display_name": "Python 3",
   "language": "python",
   "name": "python3"
  },
  "language_info": {
   "codemirror_mode": {
    "name": "ipython",
    "version": 3
   },
   "file_extension": ".py",
   "mimetype": "text/x-python",
   "name": "python",
   "nbconvert_exporter": "python",
   "pygments_lexer": "ipython3",
   "version": "3.6.8"
  }
 },
 "nbformat": 4,
 "nbformat_minor": 1
}
